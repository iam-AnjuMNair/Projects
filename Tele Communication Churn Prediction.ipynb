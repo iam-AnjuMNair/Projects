{
 "cells": [
  {
   "cell_type": "code",
   "execution_count": 1,
   "metadata": {},
   "outputs": [],
   "source": [
    "import pandas as pd\n",
    "import numpy as np\n",
    "Data1=pd.read_csv(r\"C:\\Users\\Anju\\Downloads\\WA_Fn-UseC_-Telco-Customer-Churn.csv\")\n",
    "Data=Data1"
   ]
  },
  {
   "cell_type": "code",
   "execution_count": 19,
   "metadata": {},
   "outputs": [
    {
     "name": "stdout",
     "output_type": "stream",
     "text": [
      "Unique customerID's count: 7043\n",
      "['7590-VHVEG' '5575-GNVDE' '3668-QPYBK' ... '4801-JZAZL' '8361-LTMKD'\n",
      " '3186-AJIEK']\n",
      "\n",
      "Unique gender's count: 2\n",
      "['Female' 'Male']\n",
      "\n",
      "Unique SeniorCitizen's count: 2\n",
      "[0 1]\n",
      "\n",
      "Unique Partner's count: 2\n",
      "['Yes' 'No']\n",
      "\n",
      "Unique Dependents's count: 2\n",
      "['No' 'Yes']\n",
      "\n",
      "Unique tenure's count: 73\n",
      "[ 1 34  2 45  8 22 10 28 62 13 16 58 49 25 69 52 71 21 12 30 47 72 17 27\n",
      "  5 46 11 70 63 43 15 60 18 66  9  3 31 50 64 56  7 42 35 48 29 65 38 68\n",
      " 32 55 37 36 41  6  4 33 67 23 57 61 14 20 53 40 59 24 44 19 54 51 26  0\n",
      " 39]\n",
      "\n",
      "Unique PhoneService's count: 2\n",
      "['No' 'Yes']\n",
      "\n",
      "Unique MultipleLines's count: 3\n",
      "['No phone service' 'No' 'Yes']\n",
      "\n",
      "Unique InternetService's count: 3\n",
      "['DSL' 'Fiber optic' 'No']\n",
      "\n",
      "Unique OnlineSecurity's count: 3\n",
      "['No' 'Yes' 'No internet service']\n",
      "\n",
      "Unique OnlineBackup's count: 3\n",
      "['Yes' 'No' 'No internet service']\n",
      "\n",
      "Unique DeviceProtection's count: 3\n",
      "['No' 'Yes' 'No internet service']\n",
      "\n",
      "Unique TechSupport's count: 3\n",
      "['No' 'Yes' 'No internet service']\n",
      "\n",
      "Unique StreamingTV's count: 3\n",
      "['No' 'Yes' 'No internet service']\n",
      "\n",
      "Unique StreamingMovies's count: 3\n",
      "['No' 'Yes' 'No internet service']\n",
      "\n",
      "Unique Contract's count: 3\n",
      "['Month-to-month' 'One year' 'Two year']\n",
      "\n",
      "Unique PaperlessBilling's count: 2\n",
      "['Yes' 'No']\n",
      "\n",
      "Unique PaymentMethod's count: 4\n",
      "['Electronic check' 'Mailed check' 'Bank transfer (automatic)'\n",
      " 'Credit card (automatic)']\n",
      "\n",
      "Unique MonthlyCharges's count: 1585\n",
      "[29.85 56.95 53.85 ... 63.1  44.2  78.7 ]\n",
      "\n",
      "Unique TotalCharges's count: 6531\n",
      "['29.85' '1889.5' '108.15' ... '346.45' '306.6' '6844.5']\n",
      "\n",
      "Unique Churn's count: 2\n",
      "['No' 'Yes']\n",
      "\n"
     ]
    }
   ],
   "source": [
    "for i in Data.columns:\n",
    "    print(f\"Unique {i}'s count: {Data[i].nunique()}\")\n",
    "    print(f\"{Data[i].unique()}\\n\")"
   ]
  },
  {
   "cell_type": "code",
   "execution_count": 2,
   "metadata": {},
   "outputs": [
    {
     "data": {
      "text/plain": [
       "customerID           0\n",
       "gender               0\n",
       "SeniorCitizen        0\n",
       "Partner              0\n",
       "Dependents           0\n",
       "tenure               0\n",
       "PhoneService         0\n",
       "MultipleLines        0\n",
       "InternetService      0\n",
       "OnlineSecurity       0\n",
       "OnlineBackup         0\n",
       "DeviceProtection     0\n",
       "TechSupport          0\n",
       "StreamingTV          0\n",
       "StreamingMovies      0\n",
       "Contract             0\n",
       "PaperlessBilling     0\n",
       "PaymentMethod        0\n",
       "MonthlyCharges       0\n",
       "TotalCharges        11\n",
       "Churn                0\n",
       "dtype: int64"
      ]
     },
     "execution_count": 2,
     "metadata": {},
     "output_type": "execute_result"
    }
   ],
   "source": [
    "Data=Data.replace(r'^\\s*$',np.nan,regex=True)\n",
    "Data.isna().sum()"
   ]
  },
  {
   "cell_type": "code",
   "execution_count": 3,
   "metadata": {},
   "outputs": [],
   "source": [
    "total_charges_median = Data.TotalCharges.median()\n",
    "Data['TotalCharges'] = Data['TotalCharges'].apply(pd.to_numeric)\n",
    "Data['TotalCharges'].fillna(total_charges_median, inplace=True)\n",
    "#Data['SeniorCitizen'] = Data['SeniorCitizen'].apply(str)"
   ]
  },
  {
   "cell_type": "code",
   "execution_count": 24,
   "metadata": {},
   "outputs": [],
   "source": [
    "from matplotlib import pyplot as plt\n",
    "import seaborn as sns"
   ]
  },
  {
   "cell_type": "code",
   "execution_count": 67,
   "metadata": {},
   "outputs": [
    {
     "data": {
      "image/png": "[encoded data removed]",
      "text/plain": [
       "<Figure size 360x360 with 1 Axes>"
      ]
     },
     "metadata": {
      "needs_background": "light"
     },
     "output_type": "display_data"
    }
   ],
   "source": [
    "plt.figure(figsize=(5,5))\n",
    "ax=sns.countplot(x=y_rs)\n",
    "plt.show()"
   ]
  },
  {
   "cell_type": "code",
   "execution_count": 6,
   "metadata": {},
   "outputs": [
    {
     "data": {
      "image/png": "[encoded data removed]",
      "text/plain": [
       "<Figure size 360x360 with 1 Axes>"
      ]
     },
     "metadata": {
      "needs_background": "light"
     },
     "output_type": "display_data"
    }
   ],
   "source": [
    "plt.figure(figsize=(5,5))\n",
    "ax=sns.countplot(x=Data['SeniorCitizen'], hue=Data['Churn'])\n",
    "plt.show()"
   ]
  },
  {
   "cell_type": "code",
   "execution_count": 7,
   "metadata": {},
   "outputs": [
    {
     "data": {
      "image/png": "[encoded data removed]",
      "text/plain": [
       "<Figure size 360x360 with 1 Axes>"
      ]
     },
     "metadata": {
      "needs_background": "light"
     },
     "output_type": "display_data"
    }
   ],
   "source": [
    "plt.figure(figsize=(5,5))\n",
    "ax=sns.countplot(x=Data['Contract'], hue=Data['Churn'])\n",
    "plt.show()"
   ]
  },
  {
   "cell_type": "code",
   "execution_count": 4,
   "metadata": {},
   "outputs": [
    {
     "data": {
      "text/plain": [
       "SeniorCitizen        0.0000\n",
       "tenure             124.0000\n",
       "MonthlyCharges     171.3750\n",
       "TotalCharges      8863.1625\n",
       "dtype: float64"
      ]
     },
     "execution_count": 4,
     "metadata": {},
     "output_type": "execute_result"
    }
   ],
   "source": [
    "Data=Data.drop(columns='customerID')\n",
    "numeric_features=[col for col in Data.select_dtypes(['float','int64']).columns.tolist()]\n",
    "num=Data[numeric_features]\n",
    "Q1=num.quantile(0.25)\n",
    "Q3=num.quantile(0.75)\n",
    "IQR=Q3-Q1\n",
    "Q1-1.5*IQR\n",
    "Q3+1.5*IQR\n"
   ]
  },
  {
   "cell_type": "code",
   "execution_count": 5,
   "metadata": {},
   "outputs": [
    {
     "data": {
      "text/plain": [
       "['gender',\n",
       " 'SeniorCitizen',\n",
       " 'Partner',\n",
       " 'Dependents',\n",
       " 'PhoneService',\n",
       " 'PaperlessBilling',\n",
       " 'Churn']"
      ]
     },
     "execution_count": 5,
     "metadata": {},
     "output_type": "execute_result"
    }
   ],
   "source": [
    "binary_feature = Data.nunique()[Data.nunique() == 2].keys().tolist()\n",
    "binary_feature"
   ]
  },
  {
   "cell_type": "code",
   "execution_count": 6,
   "metadata": {},
   "outputs": [],
   "source": [
    "from sklearn.preprocessing import LabelEncoder\n",
    "le=LabelEncoder()\n",
    "for i in binary_feature:\n",
    "     Data[i]=le.fit_transform(Data[i])"
   ]
  },
  {
   "cell_type": "code",
   "execution_count": 7,
   "metadata": {},
   "outputs": [],
   "source": [
    "categorical_features=[col for col in Data.select_dtypes(['object']).columns.tolist()]\n",
    "df_categorical_dummies=pd.get_dummies(Data,columns=categorical_features)"
   ]
  },
  {
   "cell_type": "code",
   "execution_count": 8,
   "metadata": {},
   "outputs": [],
   "source": [
    "X=df_categorical_dummies.drop('Churn',axis=1)\n",
    "y=df_categorical_dummies['Churn']\n",
    "from imblearn.under_sampling import RandomUnderSampler\n",
    "rs=RandomUnderSampler()\n",
    "X_rs,y_rs=rs.fit_resample(X,y)"
   ]
  },
  {
   "cell_type": "code",
   "execution_count": 9,
   "metadata": {},
   "outputs": [],
   "source": [
    "from sklearn.preprocessing import MinMaxScaler\n",
    "mms=MinMaxScaler()\n",
    "features_mms=['tenure','MonthlyCharges','TotalCharges']\n",
    "data_feature_mms=pd.DataFrame(X_rs,columns=features_mms)\n",
    "data_remaining_features=X_rs.drop(columns=features_mms,axis=1)\n",
    "rescaled_feature_mms=mms.fit_transform(data_feature_mms)\n",
    "data_rescaled_feature_mms=pd.DataFrame(rescaled_feature_mms,columns=features_mms,index=data_remaining_features.index)\n",
    "final_data=pd.concat([data_remaining_features,data_rescaled_feature_mms],axis=1)"
   ]
  },
  {
   "cell_type": "code",
   "execution_count": 10,
   "metadata": {},
   "outputs": [],
   "source": [
    "from sklearn.model_selection import train_test_split\n",
    "X_train,X_test,y_train,y_test=train_test_split(final_data,y_rs)"
   ]
  },
  {
   "cell_type": "markdown",
   "metadata": {},
   "source": [
    "# Logistic Regression"
   ]
  },
  {
   "cell_type": "code",
   "execution_count": 20,
   "metadata": {},
   "outputs": [],
   "source": [
    "from sklearn.linear_model import LogisticRegression\n",
    "LR=LogisticRegression()\n",
    "fit1=LR.fit(X_train,y_train)\n",
    "X_test['PredictedChurn']=fit1.predict(X_test)"
   ]
  },
  {
   "cell_type": "code",
   "execution_count": 21,
   "metadata": {},
   "outputs": [
    {
     "data": {
      "text/plain": [
       "array([[342, 130],\n",
       "       [ 99, 364]], dtype=int64)"
      ]
     },
     "execution_count": 21,
     "metadata": {},
     "output_type": "execute_result"
    }
   ],
   "source": [
    "from sklearn.metrics import confusion_matrix\n",
    "confusion_matrix(y_test,X_test['PredictedChurn'])\n"
   ]
  },
  {
   "cell_type": "code",
   "execution_count": 22,
   "metadata": {},
   "outputs": [
    {
     "data": {
      "text/plain": [
       "0.7550802139037434"
      ]
     },
     "execution_count": 22,
     "metadata": {},
     "output_type": "execute_result"
    }
   ],
   "source": [
    "from sklearn.metrics import accuracy_score\n",
    "accuracy_score(y_test,X_test['PredictedChurn'])"
   ]
  },
  {
   "cell_type": "code",
   "execution_count": null,
   "metadata": {},
   "outputs": [],
   "source": []
  }
 ],
 "metadata": {
  "kernelspec": {
   "display_name": "Python 3 (ipykernel)",
   "language": "python",
   "name": "python3"
  },
  "language_info": {
   "codemirror_mode": {
    "name": "ipython",
    "version": 3
   },
   "file_extension": ".py",
   "mimetype": "text/x-python",
   "name": "python",
   "nbconvert_exporter": "python",
   "pygments_lexer": "ipython3",
   "version": "3.9.12"
  }
 },
 "nbformat": 4,
 "nbformat_minor": 4
}
