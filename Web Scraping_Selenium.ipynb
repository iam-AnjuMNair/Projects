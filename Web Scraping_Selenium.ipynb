{
 "cells": [
  {
   "cell_type": "markdown",
   "id": "d6490a69",
   "metadata": {},
   "source": [
    "# Web Scraping Using Selenium"
   ]
  },
  {
   "cell_type": "markdown",
   "id": "5bebd16d",
   "metadata": {},
   "source": [
    "### Import Required Packages"
   ]
  },
  {
   "cell_type": "code",
   "execution_count": 29,
   "id": "56fb8b48",
   "metadata": {},
   "outputs": [],
   "source": [
    "from selenium import webdriver\n",
    "from selenium.webdriver.common.keys import Keys\n",
    "from selenium.webdriver.common.by import By\n",
    "import pandas as pd\n",
    "import numpy as np\n",
    "from sklearn.model_selection import train_test_split\n",
    "from sklearn.linear_model import LinearRegression\n",
    "from sklearn.tree import DecisionTreeRegressor"
   ]
  },
  {
   "cell_type": "markdown",
   "id": "5c5cb759",
   "metadata": {},
   "source": [
    "### Import Packages for install Chrome Driver Manager"
   ]
  },
  {
   "cell_type": "code",
   "execution_count": 30,
   "id": "a9bfdc1b",
   "metadata": {},
   "outputs": [],
   "source": [
    "from webdriver_manager.chrome import ChromeDriverManager"
   ]
  },
  {
   "cell_type": "code",
   "execution_count": 31,
   "id": "e0a9f3e9",
   "metadata": {},
   "outputs": [
    {
     "name": "stdout",
     "output_type": "stream",
     "text": [
      "\n"
     ]
    },
    {
     "name": "stderr",
     "output_type": "stream",
     "text": [
      "[WDM] - ====== WebDriver manager ======\n",
      "[WDM] - Current google-chrome version is 103.0.5060\n",
      "[WDM] - Get LATEST chromedriver version for 103.0.5060 google-chrome\n",
      "[WDM] - Driver [C:\\Users\\Anju\\.wdm\\drivers\\chromedriver\\win32\\103.0.5060.53\\chromedriver.exe] found in cache\n",
      "C:\\Users\\Anju\\AppData\\Local\\Temp\\ipykernel_10884\\3510924789.py:2: DeprecationWarning: executable_path has been deprecated, please pass in a Service object\n",
      "  driver = webdriver.Chrome(ChromeDriverManager().install())\n"
     ]
    }
   ],
   "source": [
    "#Install Chrome Driver Manager\n",
    "driver = webdriver.Chrome(ChromeDriverManager().install())"
   ]
  },
  {
   "cell_type": "code",
   "execution_count": 32,
   "id": "4420b51f",
   "metadata": {},
   "outputs": [],
   "source": [
    "#Maximize the window size of Chrome\n",
    "driver.maximize_window()"
   ]
  },
  {
   "cell_type": "code",
   "execution_count": 6,
   "id": "e5d9ebd9",
   "metadata": {},
   "outputs": [],
   "source": [
    "#Access website you wish to scrape through selenium driver\n",
    "driver.get(\"https://hoopshype.com/salaries/players/\")"
   ]
  },
  {
   "cell_type": "code",
   "execution_count": 33,
   "id": "add8a1ca",
   "metadata": {},
   "outputs": [],
   "source": [
    "# Declare an implicit wait to locate the expected element\n",
    "driver.implicitly_wait(10)"
   ]
  },
  {
   "cell_type": "code",
   "execution_count": 11,
   "id": "d136ec45",
   "metadata": {},
   "outputs": [],
   "source": [
    "#Scrape the name of players by locating the td tag with class name ='name'\n",
    "players = driver.find_elements(By.XPATH,\"//td[contains(@class,'name')]\")"
   ]
  },
  {
   "cell_type": "code",
   "execution_count": 12,
   "id": "853326cb",
   "metadata": {},
   "outputs": [],
   "source": [
    "#get the text of each player name into a list\n",
    "players_list = []\n",
    "for p in range(len(players)):\n",
    "    players_list.append(players[p].text)"
   ]
  },
  {
   "cell_type": "code",
   "execution_count": 13,
   "id": "bc3ac9f2",
   "metadata": {},
   "outputs": [
    {
     "name": "stdout",
     "output_type": "stream",
     "text": [
      "['PLAYER', 'Stephen Curry', 'Russell Westbrook', 'LeBron James', 'Kevin Durant', 'Paul George', 'Kawhi Leonard', 'Giannis Antetokounmpo', 'Damian Lillard', 'John Wall', 'Klay Thompson', 'Rudy Gobert', 'Khris Middleton', 'Anthony Davis', 'Jimmy Butler', 'Tobias Harris', 'Trae Young', 'Luka Doncic', 'Kyrie Irving', 'Kemba Walker', 'Ben Simmons', 'Pascal Siakam', 'Karl-Anthony Towns', 'Devin Booker', 'Kristaps Porzingis', 'Jrue Holiday', 'Joel Embiid', 'Andrew Wiggins', 'CJ McCollum', 'Nikola Jokic', 'Jamal Murray', 'Brandon Ingram', \"D'Angelo Russell\", 'Michael Porter', 'Shai Gilgeous-Alexander', 'Jayson Tatum', 'Bam Adebayo', \"De'Aaron Fox\", 'Donovan Mitchell', 'Gordon Hayward', 'Jaren Jackson Jr', 'Kevin Love', 'Jaylen Brown', 'Chris Paul', 'Kyle Lowry', 'DeMar DeRozan', 'Al Horford', 'Draymond Green', 'Julius Randle', 'John Collins', 'Mike Conley', 'Malcolm Brogdon', 'Nikola Vucevic', 'Terry Rozier', 'Danilo Gallinari', 'Fred VanVleet', 'Buddy Hield', 'Jerami Grant', 'Spencer Dinwiddie', 'Mikal Bridges', 'Jarrett Allen', 'Aaron Gordon', 'Tim Hardaway Jr', 'Eric Gordon', 'Bojan Bogdanovic', 'Lonzo Ball', 'Eric Bledsoe', 'Caris LeVert', 'Clint Capela', 'Joe Harris', 'Domantas Sabonis', 'Harrison Barnes', 'Evan Fournier', 'Bogdan Bogdanovic', 'Myles Turner', 'Steven Adams', 'Gary Trent Jr', 'Jonathan Isaac', 'OG Anunoby', 'Marcus Smart', 'Duncan Robinson', 'Derrick White', 'Norman Powell', 'Dejounte Murray', 'Markelle Fultz', 'Lauri Markkanen', 'Marcus Morris', 'Davis Bertans', 'Malik Beasley', 'Jonas Valanciunas', 'Derrick Rose', 'Kevin Huerter', 'Will Barton', 'Christian Wood', 'Wendell Carter', 'Kentavious Caldwell-Pope', 'Brook Lopez', 'Doug McDermott', 'Luke Kennard', 'Zion Williamson', 'Jordan Clarkson', 'Kyle Kuzma', 'Patrick Beverley', 'Josh Hart', 'Kelly Olynyk', 'Kelly Oubre', 'Dorian Finney-Smith', 'Robert Covington', 'Josh Richardson', 'Ja Morant', 'Devonte Graham', 'Terrence Ross', 'Dillon Brooks', 'Richaun Holmes', 'Reggie Jackson', 'Dwight Powell', 'Paolo Banchero', 'Robert Williams', 'RJ Barrett', 'Anthony Edwards', 'Cade Cunningham', 'Talen Horton-Tucker', 'Derrick Favors', 'Jae Crowder', 'Ivica Zubac', 'Reggie Bullock', 'Alec Burks', 'Danny Green', \"De'Andre Hunter\", 'Larry Nance Jr', 'James Wiseman', 'Landry Shamet', 'Jalen Green', 'Jakob Poeltl', 'Nerlens Noel', 'Dario Saric', \"Royce O'Neale\", 'Monte Morris', 'Mason Plumlee', 'Alex Caruso', 'Maxi Kleber', 'Darius Garland', 'Jabari Smith', 'Nicolas Batum', 'Daniel Theis', 'LaMelo Ball', 'Grayson Allen', 'Seth Curry', 'Evan Mobley', \"De'Anthony Melton\", 'JaMychal Green', 'TJ McConnell', 'DeAndre Jordan', 'Patrick Williams', 'Scottie Barnes', 'Cedi Osman', 'Coby White', 'Zach Collins', 'Juan Hernangomez', 'Isaac Okoro', 'Jalen Suggs', 'Jaxson Hayes', 'Khem Birch', 'Onyeka Okongwu', 'Justin Holiday', 'Josh Giddey', 'Rui Hachimura', 'Rudy Gay', 'Shaedon Sharpe', 'Cameron Payne', 'Cam Reddish', 'Cameron Johnson', 'Killian Hayes', 'PJ Washington', 'Jonathan Kuminga', 'Pat Connaughton', 'Tyler Herro', 'Romeo Langford', 'Obi Toppin', 'Franz Wagner', 'Kendrick Nunn', 'Hamidou Diallo', 'Cory Joseph', 'Garrett Temple', 'Taj Gibson', 'Torrey Craig', 'David Nwaba', 'Nickeil Alexander-Walker', 'Furkan Korkmaz', 'Deni Avdija', 'Davion Mitchell', 'Goga Bitadze', 'Ishmael Smith', 'Ziaire Williams', 'Moe Harkless', 'Jeff Green', 'Devin Vassell', 'Matisse Thybulle', 'Jarred Vanderbilt', 'James Bouknight', 'Brandon Clarke', 'Grant Williams', 'Darius Bazley', 'Ty Jerome', 'Tyrese Haliburton', 'Nassir Little', 'Josh Primo', 'Justise Winslow', 'Dylan Windler', 'Kira Lewis', 'George Hill', 'Terence Davis', 'Chris Duarte', 'Jevon Carter', 'Alex Len', 'Jordan Poole', 'Keldon Johnson', 'Aaron Nesmith', 'Moses Moody', 'Cole Anthony', 'Corey Kispert', 'Boban Marjanovic', 'Georges Niang', 'Isaiah Stewart', 'Chuma Okeke', 'Alperen Sengun', 'Tari Eason', 'Trey Burke', 'Aleksej Pokusevski', 'Kevin Porter', 'Trey Murphy', 'Josh Green', 'Tre Mann', 'Sterling Brown', 'Saddiq Bey', 'Kai Jones', 'Dewayne Dedmon', 'Andrew Nicholson', 'Precious Achiuwa', 'Jalen Johnson', 'Tyrese Maxey', 'Keon Johnson', 'Trey Lyles', 'Zeke Nnaji', 'Isaiah Jackson', 'Usman Garuba', 'Leandro Bolmaro', 'Willy Hernangomez', 'RJ Hampton', 'Josh Christopher', 'Stanley Johnson', 'Immanuel Quickley', 'John Konchar', 'Tyrell Terry', 'Quentin Grimes', 'Payton Pritchard', 'TyTy Washington', 'Bones Hyland', 'Marquese Chriss', 'Jaden McDaniels', 'Jordan McLaughlin', 'Malachi Flynn', 'Cam Thomas', 'Desmond Bane', 'Jaden Springer', \"Day'Ron Sharpe\", 'Santiago Aldama', 'Tony Bradley', 'Frank Ntilikina', 'Garrison Mathews', 'Jeremiah Robinson-Earl', 'Kenrich Williams', 'Shake Milton', 'Daniel Gafford', 'Terance Mann', 'Jalen McDaniels', 'Dean Wade', 'Jaylen Nowell', 'Naz Reid', 'Isaiah Roby', 'Chimezie Metu', 'Killian Tillie', 'Theo Maledon', 'Wenyen Gabriel', 'Thanasis Antetokounmpo', 'Moritz Wagner', 'Keita Bates-Diop', 'Sviatoslav Mykhailiuk', 'Didi Louzada', 'Oshae Brissett', 'Rayjon Tucker', 'Juwan Morgan', 'Javonte Green', 'Max Strus', 'Gabe Vincent', 'Herb Jones', 'Lamar Stevens', 'KJ Martin', 'Nick Richards', 'Xavier Tillman', 'Naji Marshall', 'Isaiah Joe', 'Paul Reed', 'Tre Jones', 'Vernon Carey', 'Devin Cannady', 'Saben Lee', 'Omer Yurtseven', 'Armoni Brooks', 'JT Thor', 'Marko Simonovic', 'Terry Taylor', 'Duane Washington Jr', 'BJ Boston', 'Jason Preston', 'Vit Krejci', 'Aaron Wiggins', 'Charles Bassey', 'Trendon Watford', 'Isaiah Todd', 'Jock Landale', 'Ayo Dosunmu', 'Isaiah Livers', 'Daishen Nix', 'Austin Reaves', 'Miles McBride', 'Greg Brown', 'Jared Butler', 'Zhaire Smith', 'Kyle Singler', 'Trevor Hudgins', 'Cole Swider', 'Scottie Pippen Jr', 'AJ Green', 'Chaundee Brown', 'Braxton Key', 'Mychal Mulder', \"Ja'Vonte Smart\", 'Sandro Mamukelashvili', 'Feron Hunt', 'Jericho Sims', 'Lindy Waters III', 'Charlie Brown', 'Brandon Williams', 'Xavier Sneed', 'Jordan Schakel', 'DJ Augustin', 'Ishmail Wainright']\n"
     ]
    }
   ],
   "source": [
    "print(players_list)"
   ]
  },
  {
   "cell_type": "code",
   "execution_count": 15,
   "id": "985e37e2",
   "metadata": {},
   "outputs": [],
   "source": [
    "#Scrape Salaries of NBA players by locating the td tag with class name\n",
    "salaries = driver.find_elements(By.XPATH, \"//td[contains(@class,'hh-salaries-sorted')]\")"
   ]
  },
  {
   "cell_type": "code",
   "execution_count": 16,
   "id": "fedad4c8",
   "metadata": {},
   "outputs": [],
   "source": [
    "#List of Salary text\n",
    "salaries_list = []\n",
    "for s in range(len(salaries)):\n",
    "    salaries_list.append(salaries[s].text)"
   ]
  },
  {
   "cell_type": "code",
   "execution_count": 17,
   "id": "23c1b567",
   "metadata": {},
   "outputs": [
    {
     "name": "stdout",
     "output_type": "stream",
     "text": [
      "['2022/23', '$48,070,014', '$47,063,478', '$44,474,988', '$44,119,845', '$42,492,568', '$42,492,492', '$42,492,492', '$42,492,492', '$40,866,760', '$40,600,080', '$38,172,414', '$37,984,276', '$37,980,720', '$37,653,300', '$37,633,050', '$37,080,000', '$37,080,000', '$36,934,550', '$36,596,549', '$35,448,672', '$35,448,672', '$33,833,400', '$33,833,400', '$33,833,400', '$33,665,040', '$33,616,770', '$33,616,770', '$33,333,333', '$33,047,803', '$31,650,600', '$31,650,600', '$31,377,750', '$30,900,000', '$30,900,000', '$30,351,780', '$30,351,780', '$30,351,780', '$30,351,780', '$30,075,000', '$28,946,605', '$28,942,830', '$28,741,071', '$28,400,000', '$28,333,334', '$27,300,000', '$26,500,000', '$25,806,468', '$23,760,000', '$23,500,000', '$22,680,000', '$22,600,000', '$22,000,000', '$21,486,316', '$21,450,000', '$21,250,000', '$21,177,750', '$20,955,000', '$20,171,427', '$20,100,000', '$20,000,000', '$19,690,909', '$19,602,273', '$19,568,360', '$19,550,000', '$19,534,884', '$19,375,000', '$18,796,296', '$18,706,896', '$18,642,857', '$18,500,000', '$18,352,273', '$18,000,000', '$18,000,000', '$18,000,000', '$17,926,829', '$17,505,000', '$17,400,000', '$17,357,143', '$17,207,142', '$16,902,000', '$16,892,857', '$16,758,621', '$16,571,120', '$16,500,000', '$16,475,454', '$16,372,093', '$16,000,000', '$15,558,035', '$14,700,000', '$14,520,730', '$14,508,929', '$14,375,000', '$14,317,459', '$14,150,000', '$14,004,703', '$13,906,976', '$13,750,000', '$13,745,455', '$13,534,817', '$13,340,000', '$13,000,000', '$13,000,000', '$12,960,000', '$12,804,878', '$12,600,000', '$12,402,000', '$12,307,692', '$12,196,094', '$12,119,440', '$11,550,000', '$11,500,000', '$11,400,000', '$11,215,260', '$11,215,260', '$11,080,125', '$11,055,120', '$10,937,502', '$10,900,634', '$10,733,400', '$10,552,800', '$10,260,000', '$10,183,800', '$10,183,800', '$10,123,457', '$10,012,800', '$10,012,800', '$10,000,000', '$9,835,881', '$9,672,727', '$9,603,360', '$9,500,000', '$9,441,840', '$9,398,148', '$9,240,000', '$9,240,000', '$9,200,000', '$9,125,000', '$9,080,417', '$9,030,000', '$9,000,000', '$8,920,794', '$8,882,640', '$8,856,969', '$8,694,369', '$8,623,920', '$8,500,000', '$8,496,653', '$8,478,720', '$8,250,000', '$8,200,000', '$8,100,000', '$7,827,907', '$7,775,400', '$7,644,600', '$7,426,088', '$7,413,955', '$7,350,000', '$7,307,130', '$7,040,880', '$6,922,320', '$6,803,012', '$6,667,500', '$6,395,160', '$6,292,440', '$6,287,400', '$6,263,188', '$6,184,500', '$6,012,960', '$6,000,000', '$5,954,454', '$5,887,899', '$5,837,760', '$5,808,435', '$5,739,840', '$5,728,393', '$5,722,116', '$5,634,257', '$5,348,280', '$5,258,280', '$5,250,000', '$5,200,000', '$5,155,500', '$5,155,500', '$5,155,500', '$5,121,951', '$5,022,000', '$5,009,633', '$5,000,000', '$4,916,160', '$4,833,600', '$4,765,339', '$4,725,000', '$4,591,680', '$4,564,980', '$4,500,000', '$4,437,000', '$4,379,526', '$4,374,000', '$4,362,240', '$4,343,919', '$4,306,281', '$4,264,628', '$4,220,057', '$4,215,120', '$4,171,548', '$4,144,320', '$4,097,561', '$4,037,277', '$4,004,280', '$4,000,000', '$4,000,000', '$3,936,960', '$3,925,000', '$3,918,600', '$3,901,399', '$3,873,024', '$3,804,360', '$3,740,160', '$3,613,680', '$3,552,840', '$3,500,000', '$3,465,000', '$3,433,320', '$3,433,320', '$3,375,360', '$3,359,160', '$3,300,000', '$3,261,480', '$3,217,631', '$3,206,520', '$3,098,400', '$3,046,200', '$3,000,000', '$2,959,080', '$2,909,040', '$2,866,667', '$2,844,429', '$2,840,160', '$2,792,640', '$2,726,880', '$2,681,040', '$2,625,000', '$2,617,800', '$2,573,760', '$2,471,160', '$2,471,160', '$2,443,581', '$2,412,840', '$2,372,160', '$2,351,521', '$2,316,240', '$2,300,000', '$2,284,701', '$2,277,000', '$2,239,200', '$2,210,040', '$2,201,520', '$2,193,920', '$2,161,440', '$2,160,000', '$2,145,720', '$2,138,160', '$2,130,240', '$2,125,200', '$2,109,480', '$2,094,120', '$2,036,318', '$2,036,318', '$2,000,000', '$2,000,000', '$2,000,000', '$1,997,718', '$1,930,681', '$1,930,681', '$1,930,681', '$1,930,681', '$1,930,681', '$1,930,681', '$1,930,681', '$1,910,860', '$1,901,625', '$1,900,000', '$1,878,720', '$1,878,720', '$1,878,720', '$1,878,720', '$1,878,720', '$1,876,222', '$1,846,738', '$1,815,677', '$1,815,677', '$1,815,677', '$1,815,677', '$1,815,677', '$1,785,000', '$1,782,621', '$1,782,621', '$1,782,621', '$1,782,621', '$1,782,621', '$1,782,621', '$1,782,621', '$1,782,621', '$1,782,621', '$1,752,638', '$1,752,638', '$1,752,638', '$1,752,638', '$1,563,518', '$1,563,518', '$1,563,518', '$1,563,518', '$1,563,518', '$1,563,518', '$1,563,518', '$1,563,518', '$1,563,518', '$1,563,518', '$1,563,518', '$1,563,518', '$1,563,518', '$1,563,518', '$1,563,518', '$1,563,518', '$1,563,518', '$1,563,518', '$1,563,518', '$1,068,200', '$999,200', '$508,891', '$508,891', '$508,891', '$508,891', '$502,080', '$502,080', '$502,080', '$502,080', '$502,080', '$502,080', '$502,080', '$502,080', '$502,080', '$502,080', '$502,080', '$502,080', '$333,333', '$1,701,305']\n"
     ]
    }
   ],
   "source": [
    "print(salaries_list)"
   ]
  },
  {
   "cell_type": "markdown",
   "id": "ab799f4a",
   "metadata": {},
   "source": [
    "#### Scrape data located in multiple web pages on the same website"
   ]
  },
  {
   "cell_type": "code",
   "execution_count": 34,
   "id": "80daec88",
   "metadata": {},
   "outputs": [
    {
     "name": "stderr",
     "output_type": "stream",
     "text": [
      "C:\\Users\\Anju\\AppData\\Local\\Temp\\ipykernel_10884\\339256328.py:29: FutureWarning: The frame.append method is deprecated and will be removed from pandas in a future version. Use pandas.concat instead.\n",
      "  df=df.append(temp_df)\n",
      "C:\\Users\\Anju\\AppData\\Local\\Temp\\ipykernel_10884\\339256328.py:29: FutureWarning: The frame.append method is deprecated and will be removed from pandas in a future version. Use pandas.concat instead.\n",
      "  df=df.append(temp_df)\n",
      "C:\\Users\\Anju\\AppData\\Local\\Temp\\ipykernel_10884\\339256328.py:29: FutureWarning: The frame.append method is deprecated and will be removed from pandas in a future version. Use pandas.concat instead.\n",
      "  df=df.append(temp_df)\n",
      "C:\\Users\\Anju\\AppData\\Local\\Temp\\ipykernel_10884\\339256328.py:29: FutureWarning: The frame.append method is deprecated and will be removed from pandas in a future version. Use pandas.concat instead.\n",
      "  df=df.append(temp_df)\n",
      "C:\\Users\\Anju\\AppData\\Local\\Temp\\ipykernel_10884\\339256328.py:29: FutureWarning: The frame.append method is deprecated and will be removed from pandas in a future version. Use pandas.concat instead.\n",
      "  df=df.append(temp_df)\n",
      "C:\\Users\\Anju\\AppData\\Local\\Temp\\ipykernel_10884\\339256328.py:29: FutureWarning: The frame.append method is deprecated and will be removed from pandas in a future version. Use pandas.concat instead.\n",
      "  df=df.append(temp_df)\n"
     ]
    },
    {
     "ename": "WebDriverException",
     "evalue": "Message: unknown error: cannot determine loading status\nfrom unknown error: unexpected command response\n  (Session info: chrome=103.0.5060.66)\nStacktrace:\nBacktrace:\n\tOrdinal0 [0x01046463+2188387]\n\tOrdinal0 [0x00FDE461+1762401]\n\tOrdinal0 [0x00EF3D78+802168]\n\tOrdinal0 [0x00EE7210+750096]\n\tOrdinal0 [0x00EE675A+747354]\n\tOrdinal0 [0x00EE5D3F+744767]\n\tOrdinal0 [0x00EE4C28+740392]\n\tOrdinal0 [0x00EE5228+741928]\n\tOrdinal0 [0x00EEF153+782675]\n\tOrdinal0 [0x00EF9FBB+827323]\n\tOrdinal0 [0x00EFD310+840464]\n\tOrdinal0 [0x00EE54F6+742646]\n\tOrdinal0 [0x00EF9BF3+826355]\n\tOrdinal0 [0x00F4CF6D+1167213]\n\tOrdinal0 [0x00F3C5F6+1099254]\n\tOrdinal0 [0x00F16BE0+945120]\n\tOrdinal0 [0x00F17AD6+948950]\n\tGetHandleVerifier [0x012E71F2+2712546]\n\tGetHandleVerifier [0x012D886D+2652765]\n\tGetHandleVerifier [0x010D002A+520730]\n\tGetHandleVerifier [0x010CEE06+516086]\n\tOrdinal0 [0x00FE468B+1787531]\n\tOrdinal0 [0x00FE8E88+1805960]\n\tOrdinal0 [0x00FE8F75+1806197]\n\tOrdinal0 [0x00FF1DF1+1842673]\n\tBaseThreadInitThunk [0x7503FA29+25]\n\tRtlGetAppContainerNamedObjectPath [0x77207A9E+286]\n\tRtlGetAppContainerNamedObjectPath [0x77207A6E+238]\n",
     "output_type": "error",
     "traceback": [
      "\u001b[1;31m---------------------------------------------------------------------------\u001b[0m",
      "\u001b[1;31mWebDriverException\u001b[0m                        Traceback (most recent call last)",
      "Input \u001b[1;32mIn [34]\u001b[0m, in \u001b[0;36m<cell line: 5>\u001b[1;34m()\u001b[0m\n\u001b[0;32m      9\u001b[0m url\u001b[38;5;241m=\u001b[39m\u001b[38;5;124m'\u001b[39m\u001b[38;5;124mhttps://hoopshype.com/salaries/players/\u001b[39m\u001b[38;5;124m'\u001b[39m\u001b[38;5;241m+\u001b[39mpage_num\n\u001b[0;32m     10\u001b[0m \u001b[38;5;66;03m#Access the URL\u001b[39;00m\n\u001b[1;32m---> 11\u001b[0m \u001b[43mdriver\u001b[49m\u001b[38;5;241;43m.\u001b[39;49m\u001b[43mget\u001b[49m\u001b[43m(\u001b[49m\u001b[43murl\u001b[49m\u001b[43m)\u001b[49m\n\u001b[0;32m     12\u001b[0m \u001b[38;5;66;03m#Locate the player name\u001b[39;00m\n\u001b[0;32m     13\u001b[0m name \u001b[38;5;241m=\u001b[39m driver\u001b[38;5;241m.\u001b[39mfind_elements(By\u001b[38;5;241m.\u001b[39mXPATH, \u001b[38;5;124m\"\u001b[39m\u001b[38;5;124m//td[contains(@class,\u001b[39m\u001b[38;5;124m'\u001b[39m\u001b[38;5;124mname\u001b[39m\u001b[38;5;124m'\u001b[39m\u001b[38;5;124m)]\u001b[39m\u001b[38;5;124m\"\u001b[39m)\n",
      "File \u001b[1;32m~\\anaconda3\\lib\\site-packages\\selenium\\webdriver\\remote\\webdriver.py:447\u001b[0m, in \u001b[0;36mWebDriver.get\u001b[1;34m(self, url)\u001b[0m\n\u001b[0;32m    443\u001b[0m \u001b[38;5;28;01mdef\u001b[39;00m \u001b[38;5;21mget\u001b[39m(\u001b[38;5;28mself\u001b[39m, url: \u001b[38;5;28mstr\u001b[39m) \u001b[38;5;241m-\u001b[39m\u001b[38;5;241m>\u001b[39m \u001b[38;5;28;01mNone\u001b[39;00m:\n\u001b[0;32m    444\u001b[0m     \u001b[38;5;124;03m\"\"\"\u001b[39;00m\n\u001b[0;32m    445\u001b[0m \u001b[38;5;124;03m    Loads a web page in the current browser session.\u001b[39;00m\n\u001b[0;32m    446\u001b[0m \u001b[38;5;124;03m    \"\"\"\u001b[39;00m\n\u001b[1;32m--> 447\u001b[0m     \u001b[38;5;28;43mself\u001b[39;49m\u001b[38;5;241;43m.\u001b[39;49m\u001b[43mexecute\u001b[49m\u001b[43m(\u001b[49m\u001b[43mCommand\u001b[49m\u001b[38;5;241;43m.\u001b[39;49m\u001b[43mGET\u001b[49m\u001b[43m,\u001b[49m\u001b[43m \u001b[49m\u001b[43m{\u001b[49m\u001b[38;5;124;43m'\u001b[39;49m\u001b[38;5;124;43murl\u001b[39;49m\u001b[38;5;124;43m'\u001b[39;49m\u001b[43m:\u001b[49m\u001b[43m \u001b[49m\u001b[43murl\u001b[49m\u001b[43m}\u001b[49m\u001b[43m)\u001b[49m\n",
      "File \u001b[1;32m~\\anaconda3\\lib\\site-packages\\selenium\\webdriver\\remote\\webdriver.py:435\u001b[0m, in \u001b[0;36mWebDriver.execute\u001b[1;34m(self, driver_command, params)\u001b[0m\n\u001b[0;32m    433\u001b[0m response \u001b[38;5;241m=\u001b[39m \u001b[38;5;28mself\u001b[39m\u001b[38;5;241m.\u001b[39mcommand_executor\u001b[38;5;241m.\u001b[39mexecute(driver_command, params)\n\u001b[0;32m    434\u001b[0m \u001b[38;5;28;01mif\u001b[39;00m response:\n\u001b[1;32m--> 435\u001b[0m     \u001b[38;5;28;43mself\u001b[39;49m\u001b[38;5;241;43m.\u001b[39;49m\u001b[43merror_handler\u001b[49m\u001b[38;5;241;43m.\u001b[39;49m\u001b[43mcheck_response\u001b[49m\u001b[43m(\u001b[49m\u001b[43mresponse\u001b[49m\u001b[43m)\u001b[49m\n\u001b[0;32m    436\u001b[0m     response[\u001b[38;5;124m'\u001b[39m\u001b[38;5;124mvalue\u001b[39m\u001b[38;5;124m'\u001b[39m] \u001b[38;5;241m=\u001b[39m \u001b[38;5;28mself\u001b[39m\u001b[38;5;241m.\u001b[39m_unwrap_value(\n\u001b[0;32m    437\u001b[0m         response\u001b[38;5;241m.\u001b[39mget(\u001b[38;5;124m'\u001b[39m\u001b[38;5;124mvalue\u001b[39m\u001b[38;5;124m'\u001b[39m, \u001b[38;5;28;01mNone\u001b[39;00m))\n\u001b[0;32m    438\u001b[0m     \u001b[38;5;28;01mreturn\u001b[39;00m response\n",
      "File \u001b[1;32m~\\anaconda3\\lib\\site-packages\\selenium\\webdriver\\remote\\errorhandler.py:247\u001b[0m, in \u001b[0;36mErrorHandler.check_response\u001b[1;34m(self, response)\u001b[0m\n\u001b[0;32m    245\u001b[0m         alert_text \u001b[38;5;241m=\u001b[39m value[\u001b[38;5;124m'\u001b[39m\u001b[38;5;124malert\u001b[39m\u001b[38;5;124m'\u001b[39m]\u001b[38;5;241m.\u001b[39mget(\u001b[38;5;124m'\u001b[39m\u001b[38;5;124mtext\u001b[39m\u001b[38;5;124m'\u001b[39m)\n\u001b[0;32m    246\u001b[0m     \u001b[38;5;28;01mraise\u001b[39;00m exception_class(message, screen, stacktrace, alert_text)  \u001b[38;5;66;03m# type: ignore[call-arg]  # mypy is not smart enough here\u001b[39;00m\n\u001b[1;32m--> 247\u001b[0m \u001b[38;5;28;01mraise\u001b[39;00m exception_class(message, screen, stacktrace)\n",
      "\u001b[1;31mWebDriverException\u001b[0m: Message: unknown error: cannot determine loading status\nfrom unknown error: unexpected command response\n  (Session info: chrome=103.0.5060.66)\nStacktrace:\nBacktrace:\n\tOrdinal0 [0x01046463+2188387]\n\tOrdinal0 [0x00FDE461+1762401]\n\tOrdinal0 [0x00EF3D78+802168]\n\tOrdinal0 [0x00EE7210+750096]\n\tOrdinal0 [0x00EE675A+747354]\n\tOrdinal0 [0x00EE5D3F+744767]\n\tOrdinal0 [0x00EE4C28+740392]\n\tOrdinal0 [0x00EE5228+741928]\n\tOrdinal0 [0x00EEF153+782675]\n\tOrdinal0 [0x00EF9FBB+827323]\n\tOrdinal0 [0x00EFD310+840464]\n\tOrdinal0 [0x00EE54F6+742646]\n\tOrdinal0 [0x00EF9BF3+826355]\n\tOrdinal0 [0x00F4CF6D+1167213]\n\tOrdinal0 [0x00F3C5F6+1099254]\n\tOrdinal0 [0x00F16BE0+945120]\n\tOrdinal0 [0x00F17AD6+948950]\n\tGetHandleVerifier [0x012E71F2+2712546]\n\tGetHandleVerifier [0x012D886D+2652765]\n\tGetHandleVerifier [0x010D002A+520730]\n\tGetHandleVerifier [0x010CEE06+516086]\n\tOrdinal0 [0x00FE468B+1787531]\n\tOrdinal0 [0x00FE8E88+1805960]\n\tOrdinal0 [0x00FE8F75+1806197]\n\tOrdinal0 [0x00FF1DF1+1842673]\n\tBaseThreadInitThunk [0x7503FA29+25]\n\tRtlGetAppContainerNamedObjectPath [0x77207A9E+286]\n\tRtlGetAppContainerNamedObjectPath [0x77207A6E+238]\n"
     ]
    }
   ],
   "source": [
    "#Create a master Data Frame\n",
    "df = pd.DataFrame(columns=['Player','Salary','Year'])\n",
    "\n",
    "#Scarpe data from the year 2018 to 2021\n",
    "for y in range(2000,2021):\n",
    "    #create the page number in a variable\n",
    "    page_num = str(y)+'-'+str(y+1)+'/'\n",
    "    #Augment Page_num at the end of the URL\n",
    "    url='https://hoopshype.com/salaries/players/'+page_num\n",
    "    #Access the URL\n",
    "    driver.get(url)\n",
    "    #Locate the player name\n",
    "    name = driver.find_elements(By.XPATH, \"//td[contains(@class,'name')]\")\n",
    "    #Locate the salary of each payer\n",
    "    salary = driver.find_elements(By.XPATH, \"//td[contains(@class,'hh-salaries-sorted')]\")\n",
    "    players_list=[]\n",
    "    for p in range(len(name)):\n",
    "        players_list.append(name[p].text)\n",
    "    salary_list=[]\n",
    "    for s in range(len(salary)):\n",
    "        salary_list.append(salary[s].text)\n",
    "    # list of each players name and salary paired together    \n",
    "    data_tuple=list(zip(players_list[1:],salary_list[1:]))\n",
    "    # creates dataframe of each tuple in list\n",
    "    temp_df=pd.DataFrame(data_tuple,columns=['Player','Salary'])\n",
    "    # adds season beginning year to each dataframe\n",
    "    temp_df['Year']=y\n",
    "    #appends to master dataframe\n",
    "    df=df.append(temp_df)\n",
    "    \n",
    "driver.close()"
   ]
  },
  {
   "cell_type": "code",
   "execution_count": 35,
   "id": "04314758",
   "metadata": {},
   "outputs": [
    {
     "data": {
      "text/html": [
       "<div>\n",
       "<style scoped>\n",
       "    .dataframe tbody tr th:only-of-type {\n",
       "        vertical-align: middle;\n",
       "    }\n",
       "\n",
       "    .dataframe tbody tr th {\n",
       "        vertical-align: top;\n",
       "    }\n",
       "\n",
       "    .dataframe thead th {\n",
       "        text-align: right;\n",
       "    }\n",
       "</style>\n",
       "<table border=\"1\" class=\"dataframe\">\n",
       "  <thead>\n",
       "    <tr style=\"text-align: right;\">\n",
       "      <th></th>\n",
       "      <th>Player</th>\n",
       "      <th>Salary</th>\n",
       "      <th>Year</th>\n",
       "    </tr>\n",
       "  </thead>\n",
       "  <tbody>\n",
       "    <tr>\n",
       "      <th>0</th>\n",
       "      <td>Kevin Garnett</td>\n",
       "      <td>$19,610,000</td>\n",
       "      <td>2000</td>\n",
       "    </tr>\n",
       "    <tr>\n",
       "      <th>1</th>\n",
       "      <td>Shaquille O'Neal</td>\n",
       "      <td>$19,285,715</td>\n",
       "      <td>2000</td>\n",
       "    </tr>\n",
       "    <tr>\n",
       "      <th>2</th>\n",
       "      <td>Alonzo Mourning</td>\n",
       "      <td>$16,880,000</td>\n",
       "      <td>2000</td>\n",
       "    </tr>\n",
       "    <tr>\n",
       "      <th>3</th>\n",
       "      <td>Juwan Howard</td>\n",
       "      <td>$16,875,000</td>\n",
       "      <td>2000</td>\n",
       "    </tr>\n",
       "    <tr>\n",
       "      <th>4</th>\n",
       "      <td>Hakeem Olajuwon</td>\n",
       "      <td>$16,700,000</td>\n",
       "      <td>2000</td>\n",
       "    </tr>\n",
       "    <tr>\n",
       "      <th>...</th>\n",
       "      <td>...</td>\n",
       "      <td>...</td>\n",
       "      <td>...</td>\n",
       "    </tr>\n",
       "    <tr>\n",
       "      <th>474</th>\n",
       "      <td>Ben Handlogten</td>\n",
       "      <td>$35,091</td>\n",
       "      <td>2005</td>\n",
       "    </tr>\n",
       "    <tr>\n",
       "      <th>475</th>\n",
       "      <td>John Lucas</td>\n",
       "      <td>$34,041</td>\n",
       "      <td>2005</td>\n",
       "    </tr>\n",
       "    <tr>\n",
       "      <th>476</th>\n",
       "      <td>Kaniel Dickens</td>\n",
       "      <td>$31,305</td>\n",
       "      <td>2005</td>\n",
       "    </tr>\n",
       "    <tr>\n",
       "      <th>477</th>\n",
       "      <td>Melvin Sanders</td>\n",
       "      <td>$24,315</td>\n",
       "      <td>2005</td>\n",
       "    </tr>\n",
       "    <tr>\n",
       "      <th>478</th>\n",
       "      <td>Alex Scales</td>\n",
       "      <td>$24,315</td>\n",
       "      <td>2005</td>\n",
       "    </tr>\n",
       "  </tbody>\n",
       "</table>\n",
       "<p>2759 rows × 3 columns</p>\n",
       "</div>"
      ],
      "text/plain": [
       "               Player       Salary  Year\n",
       "0       Kevin Garnett  $19,610,000  2000\n",
       "1    Shaquille O'Neal  $19,285,715  2000\n",
       "2     Alonzo Mourning  $16,880,000  2000\n",
       "3        Juwan Howard  $16,875,000  2000\n",
       "4     Hakeem Olajuwon  $16,700,000  2000\n",
       "..                ...          ...   ...\n",
       "474    Ben Handlogten      $35,091  2005\n",
       "475        John Lucas      $34,041  2005\n",
       "476    Kaniel Dickens      $31,305  2005\n",
       "477    Melvin Sanders      $24,315  2005\n",
       "478       Alex Scales      $24,315  2005\n",
       "\n",
       "[2759 rows x 3 columns]"
      ]
     },
     "execution_count": 35,
     "metadata": {},
     "output_type": "execute_result"
    }
   ],
   "source": [
    "df"
   ]
  },
  {
   "cell_type": "markdown",
   "id": "1f59e851",
   "metadata": {},
   "source": [
    "### Data Cleaning"
   ]
  },
  {
   "cell_type": "code",
   "execution_count": 37,
   "id": "8f37993d",
   "metadata": {},
   "outputs": [],
   "source": [
    "#Remove $ From salary\n",
    "df['Salary']=df['Salary'].str.lstrip('$')"
   ]
  },
  {
   "cell_type": "code",
   "execution_count": 38,
   "id": "5ec7e25d",
   "metadata": {},
   "outputs": [],
   "source": [
    "#Replace the  comma symbol from the salary\n",
    "df['Salary']=df['Salary'].apply(lambda a: str(a).replace(',',''))"
   ]
  },
  {
   "cell_type": "code",
   "execution_count": 39,
   "id": "14e60edd",
   "metadata": {},
   "outputs": [],
   "source": [
    "#convert Salary datatype to int\n",
    "df['Salary']=df['Salary'].astype(int)"
   ]
  },
  {
   "cell_type": "code",
   "execution_count": 40,
   "id": "273a1756",
   "metadata": {},
   "outputs": [
    {
     "data": {
      "text/plain": [
       "Player    object\n",
       "Salary     int32\n",
       "Year      object\n",
       "dtype: object"
      ]
     },
     "execution_count": 40,
     "metadata": {},
     "output_type": "execute_result"
    }
   ],
   "source": [
    "df.dtypes"
   ]
  },
  {
   "cell_type": "markdown",
   "id": "6f85d0a7",
   "metadata": {},
   "source": [
    "### Find the outliers in the dataset"
   ]
  },
  {
   "cell_type": "code",
   "execution_count": 41,
   "id": "adefd943",
   "metadata": {},
   "outputs": [],
   "source": [
    "import seaborn as sns"
   ]
  },
  {
   "cell_type": "code",
   "execution_count": 42,
   "id": "20624ea7",
   "metadata": {},
   "outputs": [
    {
     "name": "stderr",
     "output_type": "stream",
     "text": [
      "C:\\Users\\Anju\\anaconda3\\lib\\site-packages\\seaborn\\_decorators.py:36: FutureWarning: Pass the following variable as a keyword arg: x. From version 0.12, the only valid positional argument will be `data`, and passing other arguments without an explicit keyword will result in an error or misinterpretation.\n",
      "  warnings.warn(\n"
     ]
    },
    {
     "data": {
      "text/plain": [
       "<AxesSubplot:xlabel='Salary'>"
      ]
     },
     "execution_count": 42,
     "metadata": {},
     "output_type": "execute_result"
    },
    {
     "data": {
      "image/png": "[encoded data removed]",
      "text/plain": [
       "<Figure size 432x288 with 1 Axes>"
      ]
     },
     "metadata": {
      "needs_background": "light"
     },
     "output_type": "display_data"
    }
   ],
   "source": [
    "#Using Boxplot Method\n",
    "sns.boxplot(df['Salary'])"
   ]
  },
  {
   "cell_type": "code",
   "execution_count": 43,
   "id": "67c198ea",
   "metadata": {},
   "outputs": [
    {
     "data": {
      "text/plain": [
       "<AxesSubplot:xlabel='Salary', ylabel='Count'>"
      ]
     },
     "execution_count": 43,
     "metadata": {},
     "output_type": "execute_result"
    },
    {
     "data": {
      "image/png": "[encoded data removed]",
      "text/plain": [
       "<Figure size 432x288 with 1 Axes>"
      ]
     },
     "metadata": {
      "needs_background": "light"
     },
     "output_type": "display_data"
    }
   ],
   "source": [
    "#Uisng Histogram Method\n",
    "sns.histplot(df['Salary'])"
   ]
  },
  {
   "cell_type": "markdown",
   "id": "66ee5986",
   "metadata": {},
   "source": [
    "### Find the Skewness in the data"
   ]
  },
  {
   "cell_type": "code",
   "execution_count": 44,
   "id": "55c9451c",
   "metadata": {},
   "outputs": [
    {
     "name": "stderr",
     "output_type": "stream",
     "text": [
      "C:\\Users\\Anju\\AppData\\Local\\Temp\\ipykernel_10884\\4024944668.py:1: FutureWarning: Dropping of nuisance columns in DataFrame reductions (with 'numeric_only=None') is deprecated; in a future version this will raise TypeError.  Select only valid columns before calling the reduction.\n",
      "  df.skew().sort_values(ascending=False)\n"
     ]
    },
    {
     "data": {
      "text/plain": [
       "Salary    1.870913\n",
       "Year     -0.026248\n",
       "dtype: float64"
      ]
     },
     "execution_count": 44,
     "metadata": {},
     "output_type": "execute_result"
    }
   ],
   "source": [
    "df.skew().sort_values(ascending=False)"
   ]
  },
  {
   "cell_type": "code",
   "execution_count": 45,
   "id": "25b5b606",
   "metadata": {},
   "outputs": [
    {
     "name": "stdout",
     "output_type": "stream",
     "text": [
      "0    316969\n",
      "Name: Salary, dtype: int32\n",
      "3651991.8097136645\n",
      "2200000.0\n"
     ]
    }
   ],
   "source": [
    "print(df['Salary'].mode())\n",
    "print(df['Salary'].mean())\n",
    "print(df['Salary'].median())"
   ]
  },
  {
   "cell_type": "code",
   "execution_count": 46,
   "id": "9e539fc1",
   "metadata": {},
   "outputs": [
    {
     "data": {
      "text/plain": [
       "3910557.479708873"
      ]
     },
     "execution_count": 46,
     "metadata": {},
     "output_type": "execute_result"
    }
   ],
   "source": [
    "np.std(df['Salary'])"
   ]
  },
  {
   "cell_type": "code",
   "execution_count": 47,
   "id": "4c0cf55d",
   "metadata": {},
   "outputs": [],
   "source": [
    "#Find Skewness using equalition \n",
    "# Skewness = (3*(Mean-Medaian)/Standard Deviation))\n",
    "sk= (3* (df['Salary'].mean() - df['Salary'].median()))/ np.std(df['Salary'])"
   ]
  },
  {
   "cell_type": "code",
   "execution_count": 48,
   "id": "62edb903",
   "metadata": {},
   "outputs": [
    {
     "data": {
      "text/plain": [
       "1.1139013943007634"
      ]
     },
     "execution_count": 48,
     "metadata": {},
     "output_type": "execute_result"
    }
   ],
   "source": [
    "sk"
   ]
  },
  {
   "cell_type": "markdown",
   "id": "c32e0393",
   "metadata": {},
   "source": [
    "### Remove Outliers using IQR Method"
   ]
  },
  {
   "cell_type": "code",
   "execution_count": 49,
   "id": "36d39046",
   "metadata": {},
   "outputs": [
    {
     "name": "stdout",
     "output_type": "stream",
     "text": [
      "894180.0\n",
      "5000000.0\n",
      "4105820.0\n"
     ]
    }
   ],
   "source": [
    "Q1= np.percentile(df['Salary'],25,interpolation='midpoint')\n",
    "print(Q1)\n",
    "Q3= np.percentile(df['Salary'],75,interpolation='midpoint')\n",
    "print(Q3)\n",
    "IQR=Q3-Q1\n",
    "print(IQR)"
   ]
  },
  {
   "cell_type": "code",
   "execution_count": 50,
   "id": "c3f7f122",
   "metadata": {},
   "outputs": [
    {
     "name": "stdout",
     "output_type": "stream",
     "text": [
      "11158730.0\n",
      "-5264550.0\n"
     ]
    }
   ],
   "source": [
    "upper = Q3+1.5*IQR\n",
    "print(upper)\n",
    "lower =Q1-1.5*IQR\n",
    "print(lower)"
   ]
  },
  {
   "cell_type": "code",
   "execution_count": 51,
   "id": "5d41f106",
   "metadata": {},
   "outputs": [],
   "source": [
    "#Remove the ouliers from dataset\n",
    "df2=df[df['Salary']<upper]"
   ]
  },
  {
   "cell_type": "code",
   "execution_count": 56,
   "id": "f9856c61",
   "metadata": {},
   "outputs": [
    {
     "name": "stderr",
     "output_type": "stream",
     "text": [
      "C:\\Users\\Anju\\anaconda3\\lib\\site-packages\\seaborn\\_decorators.py:36: FutureWarning: Pass the following variable as a keyword arg: x. From version 0.12, the only valid positional argument will be `data`, and passing other arguments without an explicit keyword will result in an error or misinterpretation.\n",
      "  warnings.warn(\n"
     ]
    },
    {
     "data": {
      "text/plain": [
       "<AxesSubplot:xlabel='Salary'>"
      ]
     },
     "execution_count": 56,
     "metadata": {},
     "output_type": "execute_result"
    },
    {
     "data": {
      "image/png": "[encoded data removed]",
      "text/plain": [
       "<Figure size 432x288 with 1 Axes>"
      ]
     },
     "metadata": {
      "needs_background": "light"
     },
     "output_type": "display_data"
    }
   ],
   "source": [
    "sns.boxplot(df2['Salary'])"
   ]
  },
  {
   "cell_type": "code",
   "execution_count": 53,
   "id": "ec7a9373",
   "metadata": {},
   "outputs": [
    {
     "data": {
      "text/plain": [
       "(2568, 3)"
      ]
     },
     "execution_count": 53,
     "metadata": {},
     "output_type": "execute_result"
    }
   ],
   "source": [
    "df2.shape"
   ]
  },
  {
   "cell_type": "code",
   "execution_count": 54,
   "id": "6c707181",
   "metadata": {},
   "outputs": [
    {
     "data": {
      "text/plain": [
       "(2759, 3)"
      ]
     },
     "execution_count": 54,
     "metadata": {},
     "output_type": "execute_result"
    }
   ],
   "source": [
    "df.shape"
   ]
  }
 ],
 "metadata": {
  "kernelspec": {
   "display_name": "Python 3 (ipykernel)",
   "language": "python",
   "name": "python3"
  },
  "language_info": {
   "codemirror_mode": {
    "name": "ipython",
    "version": 3
   },
   "file_extension": ".py",
   "mimetype": "text/x-python",
   "name": "python",
   "nbconvert_exporter": "python",
   "pygments_lexer": "ipython3",
   "version": "3.9.12"
  }
 },
 "nbformat": 4,
 "nbformat_minor": 5
}
